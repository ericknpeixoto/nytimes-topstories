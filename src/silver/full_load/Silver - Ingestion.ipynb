{
 "cells": [
  {
   "cell_type": "code",
   "execution_count": 0,
   "metadata": {
    "application/vnd.databricks.v1+cell": {
     "cellMetadata": {
      "byteLimit": 2048000,
      "rowLimit": 10000
     },
     "inputWidgets": {},
     "nuid": "50132d73-e6fa-4747-987e-29957a55f9c3",
     "showTitle": true,
     "tableResultSettingsMap": {},
     "title": "Function: Import Query"
    }
   },
   "outputs": [],
   "source": [
    "# Function to import the SQL query used to get data from the bronze layer\n",
    "def import_query(table_name):\n",
    "    with open(f'{table_name}.sql') as query_file:\n",
    "        query = query_file.read()\n",
    "    return query"
   ]
  },
  {
   "cell_type": "code",
   "execution_count": 0,
   "metadata": {
    "application/vnd.databricks.v1+cell": {
     "cellMetadata": {
      "byteLimit": 2048000,
      "rowLimit": 10000
     },
     "inputWidgets": {},
     "nuid": "39d2e4a5-fb70-4655-8697-79707f1740bd",
     "showTitle": false,
     "tableResultSettingsMap": {},
     "title": ""
    }
   },
   "outputs": [],
   "source": [
    "database_name = dbutils.widgets.get('database_name')\n",
    "schema_name = dbutils.widgets.get('schema_name')\n",
    "table_name = dbutils.widgets.get('table_name')\n",
    "\n",
    "query = import_query(table_name)\n",
    "\n",
    "(spark.sql(query)\n",
    "    .write\n",
    "    .format('delta')\n",
    "    .mode('overwrite')\n",
    "    .partitionBy('ref_date')\n",
    "    .saveAsTable(f'{database_name}.{schema_name}.{table_name}')\n",
    ")"
   ]
  }
 ],
 "metadata": {
  "application/vnd.databricks.v1+notebook": {
   "computePreferences": null,
   "dashboards": [],
   "environmentMetadata": {
    "base_environment": "",
    "environment_version": "3"
   },
   "inputWidgetPreferences": null,
   "language": "python",
   "notebookMetadata": {
    "mostRecentlyExecutedCommandWithImplicitDF": {
     "commandId": 7696135344457480,
     "dataframes": [
      "_sqldf"
     ]
    },
    "pythonIndentUnit": 4
   },
   "notebookName": "Silver - Ingestion",
   "widgets": {}
  },
  "language_info": {
   "name": "python"
  }
 },
 "nbformat": 4,
 "nbformat_minor": 0
}
