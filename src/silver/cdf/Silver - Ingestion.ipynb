{
 "cells": [
  {
   "cell_type": "code",
   "execution_count": 0,
   "metadata": {
    "application/vnd.databricks.v1+cell": {
     "cellMetadata": {
      "byteLimit": 2048000,
      "rowLimit": 10000
     },
     "inputWidgets": {},
     "nuid": "0728e335-61be-4b2f-9962-98f1d2ad605c",
     "showTitle": false,
     "tableResultSettingsMap": {},
     "title": ""
    }
   },
   "outputs": [],
   "source": [
    "def ingestion(df):\n",
    "    df.createOrReplaceTempView('payload')\n",
    "    \n",
    "    spark.sql('''\n",
    "        INSERT INTO silver.nytimes.top_stories\n",
    "        REPLACE USING (ref_date)\n",
    "        SELECT\n",
    "        title AS ds_headline,\n",
    "        abstract AS ds_lead,\n",
    "        SPLIT(REPLACE(REPLACE(byline, 'By ', ''), ' and ', ', '), ', ') AS ds_authors,\n",
    "        section AS ds_section,\n",
    "        subsection AS ds_subsection,\n",
    "        url AS ds_url,\n",
    "        geo_facet AS ds_locations,\n",
    "        des_facet AS ds_topics,\n",
    "        org_facet AS ds_organizations,\n",
    "        per_facet AS ds_persons,\n",
    "        published_date,\n",
    "        ref_date AS ref_date\n",
    "        FROM payload        \n",
    "    ''')\n",
    "\n",
    "    return df"
   ]
  },
  {
   "cell_type": "code",
   "execution_count": 0,
   "metadata": {
    "application/vnd.databricks.v1+cell": {
     "cellMetadata": {
      "byteLimit": 2048000,
      "rowLimit": 10000
     },
     "inputWidgets": {},
     "nuid": "d8420e4f-5d64-4dd6-9bd9-26a96e5e59c3",
     "showTitle": false,
     "tableResultSettingsMap": {},
     "title": ""
    }
   },
   "outputs": [],
   "source": [
    "df_stream = (spark.readStream\n",
    "    .option('readChangeFeed', 'true')\n",
    "    .table('bronze.nytimes.top_stories')\n",
    ")"
   ]
  },
  {
   "cell_type": "code",
   "execution_count": 0,
   "metadata": {
    "application/vnd.databricks.v1+cell": {
     "cellMetadata": {
      "byteLimit": 2048000,
      "rowLimit": 10000
     },
     "inputWidgets": {},
     "nuid": "2743d706-cc83-466d-8c76-9ba0698e737d",
     "showTitle": false,
     "tableResultSettingsMap": {},
     "title": ""
    }
   },
   "outputs": [],
   "source": [
    "stream = (df_stream.writeStream\n",
    "    .option('checkpointLocation', '/Volumes/silver/nytimes/top_stories_checkpoint')\n",
    "    .foreachBatch(lambda batch_df, batch_id: ingestion(batch_df))\n",
    "    .trigger(availableNow=True)\n",
    ")"
   ]
  },
  {
   "cell_type": "code",
   "execution_count": 0,
   "metadata": {
    "application/vnd.databricks.v1+cell": {
     "cellMetadata": {
      "byteLimit": 2048000,
      "rowLimit": 10000
     },
     "inputWidgets": {},
     "nuid": "bc42c6e5-a3ef-4657-bc1f-2b26b343673f",
     "showTitle": false,
     "tableResultSettingsMap": {},
     "title": ""
    }
   },
   "outputs": [],
   "source": [
    "stream.start()"
   ]
  }
 ],
 "metadata": {
  "application/vnd.databricks.v1+notebook": {
   "computePreferences": null,
   "dashboards": [],
   "environmentMetadata": {
    "base_environment": "",
    "environment_version": "3"
   },
   "inputWidgetPreferences": null,
   "language": "python",
   "notebookMetadata": {
    "mostRecentlyExecutedCommandWithImplicitDF": {
     "commandId": 7253829310469410,
     "dataframes": [
      "_sqldf"
     ]
    },
    "pythonIndentUnit": 4
   },
   "notebookName": "Silver - Ingestion",
   "widgets": {}
  },
  "language_info": {
   "name": "python"
  }
 },
 "nbformat": 4,
 "nbformat_minor": 0
}
