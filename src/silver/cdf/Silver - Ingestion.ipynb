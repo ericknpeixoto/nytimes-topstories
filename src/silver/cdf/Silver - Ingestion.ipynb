{
 "cells": [
  {
   "cell_type": "code",
   "execution_count": 0,
   "metadata": {
    "application/vnd.databricks.v1+cell": {
     "cellMetadata": {},
     "inputWidgets": {},
     "nuid": "1e163df2-81ec-4257-8a5d-0a7bb64907a9",
     "showTitle": true,
     "tableResultSettingsMap": {},
     "title": "Setup"
    }
   },
   "outputs": [],
   "source": [
    "database_from = dbutils.widgets.get('database_from')\n",
    "database_to = dbutils.widgets.get('database_to')\n",
    "\n",
    "schema_name_from = dbutils.widgets.get('schema_name_from')\n",
    "schema_name_to = dbutils.widgets.get('schema_name_to')\n",
    "\n",
    "table_name_from = dbutils.widgets.get('table_name_from')\n",
    "table_name_to = dbutils.widgets.get('table_name_to')\n",
    "\n",
    "partition_field_to = dbutils.widgets.get('partition_field_to')"
   ]
  },
  {
   "cell_type": "code",
   "execution_count": 0,
   "metadata": {
    "application/vnd.databricks.v1+cell": {
     "cellMetadata": {
      "byteLimit": 2048000,
      "rowLimit": 10000
     },
     "inputWidgets": {},
     "nuid": "0728e335-61be-4b2f-9962-98f1d2ad605c",
     "showTitle": true,
     "tableResultSettingsMap": {},
     "title": "Function: Ingestion"
    }
   },
   "outputs": [],
   "source": [
    "def ingestion(df):\n",
    "    df.createOrReplaceTempView('source_table')\n",
    "    \n",
    "    with open(f'./{table_name_to}_transformation.sql', 'r', encoding='utf-8') as query_file:\n",
    "        query_transformation = query_file.read() \n",
    "\n",
    "    query_ingestion = (f'''\n",
    "            INSERT INTO {database_to}.{schema_name_to}.{table_name_to}\n",
    "            REPLACE USING ({partition_field_to})\n",
    "            {query_transformation}       \n",
    "    ''')\n",
    "\n",
    "    spark.sql(query_ingestion)\n",
    "\n",
    "    return df"
   ]
  },
  {
   "cell_type": "code",
   "execution_count": 0,
   "metadata": {
    "application/vnd.databricks.v1+cell": {
     "cellMetadata": {
      "byteLimit": 2048000,
      "rowLimit": 10000
     },
     "inputWidgets": {},
     "nuid": "d8420e4f-5d64-4dd6-9bd9-26a96e5e59c3",
     "showTitle": true,
     "tableResultSettingsMap": {},
     "title": "Streaming: Read"
    }
   },
   "outputs": [],
   "source": [
    "df_stream = (spark.readStream\n",
    "    .option('readChangeFeed', 'true')\n",
    "    .table(f'{database_from}.{schema_name_from}.{table_name_from}')\n",
    ")"
   ]
  },
  {
   "cell_type": "code",
   "execution_count": 0,
   "metadata": {
    "application/vnd.databricks.v1+cell": {
     "cellMetadata": {
      "byteLimit": 2048000,
      "rowLimit": 10000
     },
     "inputWidgets": {},
     "nuid": "2743d706-cc83-466d-8c76-9ba0698e737d",
     "showTitle": true,
     "tableResultSettingsMap": {},
     "title": "Streaming: Write"
    }
   },
   "outputs": [],
   "source": [
    "stream = (df_stream.writeStream\n",
    "    .option('checkpointLocation', f'/Volumes/{database_to}/{schema_name_to}/{table_name_to}_checkpoint')\n",
    "    .foreachBatch(lambda batch_df, batch_id: ingestion(batch_df))\n",
    "    .trigger(availableNow = True)\n",
    ")"
   ]
  },
  {
   "cell_type": "code",
   "execution_count": 0,
   "metadata": {
    "application/vnd.databricks.v1+cell": {
     "cellMetadata": {
      "byteLimit": 2048000,
      "rowLimit": 10000
     },
     "inputWidgets": {},
     "nuid": "bc42c6e5-a3ef-4657-bc1f-2b26b343673f",
     "showTitle": true,
     "tableResultSettingsMap": {},
     "title": "Streaming: Execute"
    }
   },
   "outputs": [],
   "source": [
    "stream.start()"
   ]
  }
 ],
 "metadata": {
  "application/vnd.databricks.v1+notebook": {
   "computePreferences": null,
   "dashboards": [],
   "environmentMetadata": {
    "base_environment": "",
    "environment_version": "3"
   },
   "inputWidgetPreferences": null,
   "language": "python",
   "notebookMetadata": {
    "mostRecentlyExecutedCommandWithImplicitDF": {
     "commandId": 7253829310469410,
     "dataframes": [
      "_sqldf"
     ]
    },
    "pythonIndentUnit": 4
   },
   "notebookName": "Silver - Ingestion",
   "widgets": {}
  },
  "language_info": {
   "name": "python"
  }
 },
 "nbformat": 4,
 "nbformat_minor": 0
}
