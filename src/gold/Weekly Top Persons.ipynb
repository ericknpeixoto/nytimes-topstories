{
 "cells": [
  {
   "cell_type": "code",
   "execution_count": 0,
   "metadata": {
    "application/vnd.databricks.v1+cell": {
     "cellMetadata": {
      "byteLimit": 2048000,
      "rowLimit": 10000
     },
     "inputWidgets": {},
     "nuid": "0ee5e82d-ca6f-40c3-8e85-08013d2c1a0f",
     "showTitle": false,
     "tableResultSettingsMap": {},
     "title": ""
    }
   },
   "outputs": [],
   "source": [
    "from datetime import datetime\n",
    "from datetime import timedelta"
   ]
  },
  {
   "cell_type": "code",
   "execution_count": 0,
   "metadata": {
    "application/vnd.databricks.v1+cell": {
     "cellMetadata": {
      "byteLimit": 2048000,
      "rowLimit": 10000
     },
     "inputWidgets": {},
     "nuid": "be51e966-5cb4-4112-91b0-b888ada60dd1",
     "showTitle": false,
     "tableResultSettingsMap": {},
     "title": ""
    }
   },
   "outputs": [],
   "source": [
    "# Function to identify if a table already exists\n",
    "def table_exists(schema_name, database_name, table_name):\n",
    "    spark.catalog.setCurrentCatalog(schema_name)\n",
    "    \n",
    "    return spark.catalog.tableExists(f'{database_name}.{table_name}')\n"
   ]
  },
  {
   "cell_type": "code",
   "execution_count": 0,
   "metadata": {
    "application/vnd.databricks.v1+cell": {
     "cellMetadata": {
      "byteLimit": 2048000,
      "rowLimit": 10000
     },
     "inputWidgets": {},
     "nuid": "4f386fde-dd8c-4941-9fc4-909bebf32258",
     "showTitle": false,
     "tableResultSettingsMap": {},
     "title": ""
    }
   },
   "outputs": [],
   "source": [
    "spark.catalog.setCurrentCatalog('gold')\n",
    "\n",
    "if spark.catalog.tableExists('nytimes.weekly_trending_persons'):\n",
    "    last_updated = spark.sql('SHOW PARTITIONS gold.nytimes.weekly_trending_persons').orderBy('ref_date', ascending = False).limit(1).collect()[0][0]\n",
    "\n",
    "    end_date = spark.sql('SHOW PARTITIONS silver.nytimes.top_stories').orderBy('ref_date', ascending = False).limit(1).collect()[0][0]\n",
    "\n",
    "    if last_updated == end_date:\n",
    "        print('Table is already up to date')\n",
    "        dbutils.notebook.exit()\n",
    "\n",
    "    start_date = spark.sql(f'''\n",
    "        SELECT \n",
    "            MIN(ref_date) \n",
    "        FROM silver.nytimes.top_stories \n",
    "        WHERE weekofyear(ref_date) = {datetime.strptime(end_date, \"%Y-%m-%d\").date().strftime('%U')}\n",
    "    ''').collect()[0][0]\n",
    "    \n",
    "    print(f'Updating table with data from {start_date} to {end_date}')\n",
    "else:\n",
    "    start_date = spark.sql('SHOW PARTITIONS silver.nytimes.top_stories').orderBy('ref_date').limit(1).collect()[0][0]\n",
    "    end_date = spark.sql('SHOW PARTITIONS silver.nytimes.top_stories').orderBy('ref_date', ascending = False).limit(1).collect()[0][0]\n",
    "    print(f'Creating table with data from {start_date} to {end_date}') \n"
   ]
  },
  {
   "cell_type": "code",
   "execution_count": 0,
   "metadata": {
    "application/vnd.databricks.v1+cell": {
     "cellMetadata": {
      "byteLimit": 2048000,
      "implicitDf": true,
      "rowLimit": 10000
     },
     "inputWidgets": {},
     "nuid": "f21959a3-0f3c-49f0-a8dd-f62a8ae5eb63",
     "showTitle": false,
     "tableResultSettingsMap": {},
     "title": ""
    }
   },
   "outputs": [],
   "source": [
    "df_upload = spark.sql(f'''\n",
    "  WITH persons AS (\n",
    "    SELECT\n",
    "      ref_date,\n",
    "      weekofyear(ref_date) AS week_number,\n",
    "      explode(ds_persons) AS person\n",
    "    FROM silver.nytimes.top_stories\n",
    "    WHERE ref_date >= '{start_date}'\n",
    "  ),\n",
    "\n",
    "  week_period AS (\n",
    "    SELECT\n",
    "      week_number,\n",
    "      MIN(ref_date) AS week_start,\n",
    "      MAX(ref_date) AS week_end\n",
    "    FROM persons\n",
    "    GROUP BY week_number\n",
    "  )\n",
    "\n",
    "  SELECT\n",
    "    p.week_number,\n",
    "    week_start,\n",
    "    week_end,\n",
    "    concat(\n",
    "      split_part(regexp_replace(person, r'\\\\s\\\\(\\\\d\\\\d\\\\d\\\\d\\\\-?.?.?.?.', ''), ',', '2'),\n",
    "      ' ',\n",
    "      split_part(regexp_replace(person, r'\\\\s\\\\(\\\\d\\\\d\\\\d\\\\d\\\\-?.?.?.?.', ''), ',', '1')\n",
    "    ) AS person,\n",
    "    COUNT(*) AS mentions,\n",
    "    week_end AS ref_date\n",
    "  FROM persons p\n",
    "  INNER JOIN week_period ON p.week_number = week_period.week_number\n",
    "  GROUP BY p.week_number, week_start, week_end, person\n",
    "  ORDER BY week_number DESC, mentions DESC\n",
    "'''.format(start_date = start_date))"
   ]
  },
  {
   "cell_type": "code",
   "execution_count": 0,
   "metadata": {
    "application/vnd.databricks.v1+cell": {
     "cellMetadata": {
      "byteLimit": 2048000,
      "rowLimit": 10000
     },
     "inputWidgets": {},
     "nuid": "734e191c-afa3-4fd2-b7fd-e05b60a9f33a",
     "showTitle": false,
     "tableResultSettingsMap": {},
     "title": ""
    }
   },
   "outputs": [],
   "source": [
    "(df_upload.write\n",
    "    .partitionBy('ref_date')\n",
    "    .format(\"delta\")\n",
    "    .mode('overwrite')\n",
    "    .option('replaceWhere', f'ref_date >= \"{start_date}\"')\n",
    "    .saveAsTable(\"gold.nytimes.weekly_trending_persons\")\n",
    ")"
   ]
  },
  {
   "cell_type": "code",
   "execution_count": 0,
   "metadata": {
    "application/vnd.databricks.v1+cell": {
     "cellMetadata": {
      "byteLimit": 2048000,
      "implicitDf": true,
      "rowLimit": 10000
     },
     "inputWidgets": {},
     "nuid": "32dc2ca7-1961-4665-bf5a-6ea8b86b50bd",
     "showTitle": false,
     "tableResultSettingsMap": {
      "0": {
       "dataGridStateBlob": "{\"version\":1,\"tableState\":{\"columnPinning\":{\"left\":[\"#row_number#\"],\"right\":[]},\"columnSizing\":{\"ref_date\":114},\"columnVisibility\":{}},\"settings\":{\"columns\":{}},\"syncTimestamp\":1759000789556}",
       "filterBlob": null,
       "queryPlanFiltersBlob": null,
       "tableResultIndex": 0
      }
     },
     "title": ""
    }
   },
   "outputs": [],
   "source": [
    "%sql\n",
    "\n",
    "SHOW PARTITIONS gold.nytimes.weekly_trending_persons;"
   ]
  },
  {
   "cell_type": "code",
   "execution_count": 0,
   "metadata": {
    "application/vnd.databricks.v1+cell": {
     "cellMetadata": {
      "byteLimit": 2048000,
      "implicitDf": true,
      "rowLimit": 10000
     },
     "inputWidgets": {},
     "nuid": "97d4aca2-8186-45bb-b28a-01e6c706c37d",
     "showTitle": false,
     "tableResultSettingsMap": {
      "0": {
       "dataGridStateBlob": "{\"version\":1,\"tableState\":{\"columnPinning\":{\"left\":[\"#row_number#\"],\"right\":[]},\"columnSizing\":{},\"columnVisibility\":{}},\"settings\":{\"columns\":{}},\"syncTimestamp\":1759453215927}",
       "filterBlob": null,
       "queryPlanFiltersBlob": null,
       "tableResultIndex": 0
      }
     },
     "title": ""
    }
   },
   "outputs": [],
   "source": [
    "%sql\n",
    "\n",
    "SELECT * FROM  gold.nytimes.weekly_trending_persons;"
   ]
  }
 ],
 "metadata": {
  "application/vnd.databricks.v1+notebook": {
   "computePreferences": null,
   "dashboards": [],
   "environmentMetadata": {
    "base_environment": "",
    "environment_version": "3"
   },
   "inputWidgetPreferences": null,
   "language": "python",
   "notebookMetadata": {
    "mostRecentlyExecutedCommandWithImplicitDF": {
     "commandId": 8312835355844177,
     "dataframes": [
      "_sqldf"
     ]
    },
    "pythonIndentUnit": 4
   },
   "notebookName": "Weekly Top Persons",
   "widgets": {}
  },
  "language_info": {
   "name": "python"
  }
 },
 "nbformat": 4,
 "nbformat_minor": 0
}
