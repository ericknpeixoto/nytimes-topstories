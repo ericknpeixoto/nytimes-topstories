{
 "cells": [
  {
   "cell_type": "code",
   "execution_count": 0,
   "metadata": {
    "application/vnd.databricks.v1+cell": {
     "cellMetadata": {
      "byteLimit": 2048000,
      "implicitDf": true,
      "rowLimit": 10000
     },
     "inputWidgets": {},
     "nuid": "b6594acf-a051-44bd-877f-d189fc0ad08c",
     "showTitle": false,
     "tableResultSettingsMap": {
      "0": {
       "dataGridStateBlob": "{\"version\":1,\"tableState\":{\"columnPinning\":{\"left\":[\"#row_number#\"],\"right\":[]},\"columnSizing\":{},\"columnVisibility\":{}},\"settings\":{\"columns\":{}},\"syncTimestamp\":1758997973885}",
       "filterBlob": null,
       "queryPlanFiltersBlob": null,
       "tableResultIndex": 0
      }
     },
     "title": ""
    }
   },
   "outputs": [],
   "source": [
    "%sql\n",
    "\n",
    "--DROP TABLE IF EXISTS gold.nytimes.last_month_trending_organizations;\n",
    "\n",
    "INSERT OVERWRITE TABLE gold.nytimes.last_month_trending_organizations (\n",
    "  WITH organizations AS (\n",
    "    SELECT \n",
    "      ref_date,\n",
    "      explode(ds_organizations) AS organization\n",
    "    FROM silver.nytimes.top_stories\n",
    "  )\n",
    "\n",
    "  SELECT \n",
    "    organization, \n",
    "    COUNT(*) AS stories\n",
    "  FROM organizations\n",
    "  WHERE ref_date >= CURRENT_DATE() - 30\n",
    "    AND organization IS NOT NULL\n",
    "    AND organization <> ''\n",
    "  GROUP BY organization\n",
    "  ORDER BY stories DESC\n",
    ")"
   ]
  },
  {
   "cell_type": "code",
   "execution_count": 0,
   "metadata": {
    "application/vnd.databricks.v1+cell": {
     "cellMetadata": {
      "byteLimit": 2048000,
      "implicitDf": true,
      "rowLimit": 10000
     },
     "inputWidgets": {},
     "nuid": "b6ae23a2-ee03-4e68-807a-999e8138e589",
     "showTitle": false,
     "tableResultSettingsMap": {},
     "title": ""
    }
   },
   "outputs": [],
   "source": [
    "%sql\n",
    "\n",
    "SELECT * FROM gold.nytimes.last_month_trending_organizations"
   ]
  }
 ],
 "metadata": {
  "application/vnd.databricks.v1+notebook": {
   "computePreferences": null,
   "dashboards": [],
   "environmentMetadata": {
    "base_environment": "",
    "environment_version": "3"
   },
   "inputWidgetPreferences": null,
   "language": "python",
   "notebookMetadata": {
    "mostRecentlyExecutedCommandWithImplicitDF": {
     "commandId": 3750928461618063,
     "dataframes": [
      "_sqldf"
     ]
    },
    "pythonIndentUnit": 4
   },
   "notebookName": "Last Month Trending Organizations",
   "widgets": {}
  },
  "language_info": {
   "name": "python"
  }
 },
 "nbformat": 4,
 "nbformat_minor": 0
}
