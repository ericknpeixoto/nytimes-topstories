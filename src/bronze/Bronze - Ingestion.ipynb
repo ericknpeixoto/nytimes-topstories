{
 "cells": [
  {
   "cell_type": "code",
   "execution_count": 0,
   "metadata": {
    "application/vnd.databricks.v1+cell": {
     "cellMetadata": {
      "byteLimit": 2048000,
      "rowLimit": 10000
     },
     "inputWidgets": {},
     "nuid": "fe9e44c7-6e2e-42ee-9102-bc6a0f226a21",
     "showTitle": true,
     "tableResultSettingsMap": {},
     "title": "Configuration"
    }
   },
   "outputs": [],
   "source": [
    "from datetime import datetime\n",
    "from pyspark.sql.functions import lit\n",
    "from pyspark.sql.types import StructType, StructField, StringType, IntegerType, ArrayType, LongType"
   ]
  },
  {
   "cell_type": "code",
   "execution_count": 0,
   "metadata": {
    "application/vnd.databricks.v1+cell": {
     "cellMetadata": {
      "byteLimit": 2048000,
      "rowLimit": 10000
     },
     "inputWidgets": {},
     "nuid": "ddaba545-31aa-4ee5-a76c-eae69d456d8c",
     "showTitle": true,
     "tableResultSettingsMap": {},
     "title": "Stream Schema Definition"
    }
   },
   "outputs": [],
   "source": [
    "stream_schema = StructType(\n",
    "    [\n",
    "        StructField(\"abstract\", StringType(), True),\n",
    "        StructField(\"byline\", StringType(), True),\n",
    "        StructField(\"created_date\", StringType(), True),\n",
    "        StructField(\"des_facet\", ArrayType(StringType(), True), True),\n",
    "        StructField(\"geo_facet\", ArrayType(StringType(), True), True),\n",
    "        StructField(\"item_type\", StringType(), True),\n",
    "        StructField(\"kicker\", StringType(), True),\n",
    "        StructField(\"material_type_facet\", StringType(), True),\n",
    "        StructField(\n",
    "            \"multimedia\",\n",
    "            ArrayType(\n",
    "                StructType(\n",
    "                    [\n",
    "                        StructField(\"caption\", StringType(), True),\n",
    "                        StructField(\"copyright\", StringType(), True),\n",
    "                        StructField(\"format\", StringType(), True),\n",
    "                        StructField(\"height\", LongType(), True),\n",
    "                        StructField(\"subtype\", StringType(), True),\n",
    "                        StructField(\"type\", StringType(), True),\n",
    "                        StructField(\"url\", StringType(), True),\n",
    "                        StructField(\"width\", LongType(), True),\n",
    "                    ]\n",
    "                ),\n",
    "                True,\n",
    "            ),\n",
    "            True,\n",
    "        ),\n",
    "        StructField(\"org_facet\", ArrayType(StringType(), True), True),\n",
    "        StructField(\"per_facet\", ArrayType(StringType(), True), True),\n",
    "        StructField(\"published_date\", StringType(), True),\n",
    "        StructField(\"section\", StringType(), True),\n",
    "        StructField(\"short_url\", StringType(), True),\n",
    "        StructField(\"subsection\", StringType(), True),\n",
    "        StructField(\"title\", StringType(), True),\n",
    "        StructField(\"updated_date\", StringType(), True),\n",
    "        StructField(\"uri\", StringType(), True),\n",
    "        StructField(\"url\", StringType(), True),\n",
    "        StructField('ref_date', StringType(), True),\n",
    "        StructField(\"ingestion_date\", StringType(), True),\n",
    "    ]\n",
    ")"
   ]
  },
  {
   "cell_type": "code",
   "execution_count": 0,
   "metadata": {
    "application/vnd.databricks.v1+cell": {
     "cellMetadata": {
      "byteLimit": 2048000,
      "rowLimit": 10000
     },
     "inputWidgets": {},
     "nuid": "4bb63afa-edf1-41a3-aa8b-857d641ab243",
     "showTitle": false,
     "tableResultSettingsMap": {},
     "title": ""
    }
   },
   "outputs": [],
   "source": [
    "table_exists = spark.sql('''\n",
    "  SELECT COUNT(*)\n",
    "  FROM bronze.information_schema.tables\n",
    "  WHERE table_schema = 'nytimes'\n",
    "    AND table_name = 'top_stories';\n",
    "''').collect()[0][0]\n",
    "\n",
    "if table_exists == 0:\n",
    "    print('Creating top_stories table...')\n",
    "    df_creation = spark.createDataFrame([], schema=stream_schema)\n",
    "    (df_creation.write\n",
    "     .format('delta')\n",
    "     .mode('overwrite')\n",
    "     .partitionBy('ref_date')\n",
    "     .saveAsTable('bronze.nytimes.top_stories')\n",
    "    )\n",
    "    print('top_stories table created successfully')\n",
    "else:\n",
    "    print('top_stories table already exists')"
   ]
  },
  {
   "cell_type": "code",
   "execution_count": 0,
   "metadata": {
    "application/vnd.databricks.v1+cell": {
     "cellMetadata": {
      "byteLimit": 2048000,
      "rowLimit": 10000
     },
     "inputWidgets": {},
     "nuid": "ba37aa12-0c15-44b4-b669-288da003e9b5",
     "showTitle": true,
     "tableResultSettingsMap": {},
     "title": "Ingestion Function"
    }
   },
   "outputs": [],
   "source": [
    "def ingestion(df):\n",
    "    df = df.withColumn('ingestion_date', lit(datetime.now().strftime('%Y-%m-%d')))\n",
    "    df.createOrReplaceTempView('payload')\n",
    "\n",
    "    spark.sql('''\n",
    "        INSERT INTO bronze.nytimes.top_stories\n",
    "        REPLACE USING (ref_date)\n",
    "        SELECT * FROM payload\n",
    "    ''')\n"
   ]
  },
  {
   "cell_type": "code",
   "execution_count": 0,
   "metadata": {
    "application/vnd.databricks.v1+cell": {
     "cellMetadata": {
      "byteLimit": 2048000,
      "rowLimit": 10000
     },
     "inputWidgets": {},
     "nuid": "1e6b1b81-55e2-4a0b-8ca0-ee4723e998fc",
     "showTitle": true,
     "tableResultSettingsMap": {},
     "title": "Reading Stream"
    }
   },
   "outputs": [],
   "source": [
    "df_stream = (spark.readStream\n",
    "                .format('cloudFiles')\n",
    "                .option('cloudFiles.format', 'json')\n",
    "                .schema(stream_schema)\n",
    "                .load('/Volumes/raw/nytimes/top_stories')\n",
    ")"
   ]
  },
  {
   "cell_type": "code",
   "execution_count": 0,
   "metadata": {
    "application/vnd.databricks.v1+cell": {
     "cellMetadata": {
      "byteLimit": 2048000,
      "rowLimit": 10000
     },
     "inputWidgets": {},
     "nuid": "dfaf03b2-eea0-4364-8124-4372145127c3",
     "showTitle": true,
     "tableResultSettingsMap": {},
     "title": "Writing Stream"
    }
   },
   "outputs": [],
   "source": [
    "stream = (df_stream.writeStream\n",
    "    .option(\"checkpointLocation\", \"/Volumes/raw/nytimes/top_stories_checkpoint/\")\n",
    "    .foreachBatch(\n",
    "        lambda df, epoch_id: ingestion(df)\n",
    "    )\n",
    "    .trigger(availableNow=True)\n",
    ")"
   ]
  },
  {
   "cell_type": "code",
   "execution_count": 0,
   "metadata": {
    "application/vnd.databricks.v1+cell": {
     "cellMetadata": {
      "byteLimit": 2048000,
      "rowLimit": 10000
     },
     "inputWidgets": {},
     "nuid": "7cb1c7b5-b017-470a-b005-112b6c182f56",
     "showTitle": true,
     "tableResultSettingsMap": {},
     "title": "Stream execution"
    }
   },
   "outputs": [],
   "source": [
    "start = stream.start()"
   ]
  }
 ],
 "metadata": {
  "application/vnd.databricks.v1+notebook": {
   "computePreferences": {
    "hardware": {
     "accelerator": null,
     "gpuPoolId": null,
     "memory": null
    }
   },
   "dashboards": [],
   "environmentMetadata": {
    "base_environment": "",
    "environment_version": "3"
   },
   "inputWidgetPreferences": null,
   "language": "python",
   "notebookMetadata": {
    "mostRecentlyExecutedCommandWithImplicitDF": {
     "commandId": 8487397785821354,
     "dataframes": [
      "_sqldf"
     ]
    },
    "pythonIndentUnit": 4
   },
   "notebookName": "Bronze - Ingestion",
   "widgets": {}
  },
  "language_info": {
   "name": "python"
  }
 },
 "nbformat": 4,
 "nbformat_minor": 0
}
