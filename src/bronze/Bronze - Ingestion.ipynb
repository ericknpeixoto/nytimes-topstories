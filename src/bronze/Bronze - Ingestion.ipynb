{
 "cells": [
  {
   "cell_type": "code",
   "execution_count": 0,
   "metadata": {
    "application/vnd.databricks.v1+cell": {
     "cellMetadata": {
      "byteLimit": 2048000,
      "rowLimit": 10000
     },
     "inputWidgets": {},
     "nuid": "fe9e44c7-6e2e-42ee-9102-bc6a0f226a21",
     "showTitle": true,
     "tableResultSettingsMap": {},
     "title": "Configuration"
    }
   },
   "outputs": [],
   "source": [
    "from datetime import datetime\n",
    "from pyspark.sql.functions import lit\n",
    "from pyspark.sql.types import StructType,StructField, StringType, IntegerType, ArrayType, LongType"
   ]
  },
  {
   "cell_type": "code",
   "execution_count": 0,
   "metadata": {
    "application/vnd.databricks.v1+cell": {
     "cellMetadata": {
      "byteLimit": 2048000,
      "rowLimit": 10000
     },
     "inputWidgets": {},
     "nuid": "ddaba545-31aa-4ee5-a76c-eae69d456d8c",
     "showTitle": true,
     "tableResultSettingsMap": {},
     "title": "Stream Schema Definition"
    }
   },
   "outputs": [],
   "source": [
    "stream_schema = StructType(\n",
    "    [\n",
    "        StructField(\"abstract\", StringType(), True),\n",
    "        StructField(\"byline\", StringType(), True),\n",
    "        StructField(\"created_date\", StringType(), True),\n",
    "        StructField(\"des_facet\", ArrayType(StringType(), True), True),\n",
    "        StructField(\"geo_facet\", ArrayType(StringType(), True), True),\n",
    "        StructField(\"item_type\", StringType(), True),\n",
    "        StructField(\"kicker\", StringType(), True),\n",
    "        StructField(\"material_type_facet\", StringType(), True),\n",
    "        StructField(\n",
    "            \"multimedia\",\n",
    "            ArrayType(\n",
    "                StructType(\n",
    "                    [\n",
    "                        StructField(\"caption\", StringType(), True),\n",
    "                        StructField(\"copyright\", StringType(), True),\n",
    "                        StructField(\"format\", StringType(), True),\n",
    "                        StructField(\"height\", LongType(), True),\n",
    "                        StructField(\"subtype\", StringType(), True),\n",
    "                        StructField(\"type\", StringType(), True),\n",
    "                        StructField(\"url\", StringType(), True),\n",
    "                        StructField(\"width\", LongType(), True),\n",
    "                    ]\n",
    "                ),\n",
    "                True,\n",
    "            ),\n",
    "            True,\n",
    "        ),\n",
    "        StructField(\"org_facet\", ArrayType(StringType(), True), True),\n",
    "        StructField(\"per_facet\", ArrayType(StringType(), True), True),\n",
    "        StructField(\"published_date\", StringType(), True),\n",
    "        StructField(\"section\", StringType(), True),\n",
    "        StructField(\"short_url\", StringType(), True),\n",
    "        StructField(\"subsection\", StringType(), True),\n",
    "        StructField(\"title\", StringType(), True),\n",
    "        StructField(\"updated_date\", StringType(), True),\n",
    "        StructField(\"uri\", StringType(), True),\n",
    "        StructField(\"url\", StringType(), True),\n",
    "        StructField(\"ingestion_date\", StringType(), True),\n",
    "    ]\n",
    ")"
   ]
  },
  {
   "cell_type": "code",
   "execution_count": 0,
   "metadata": {
    "application/vnd.databricks.v1+cell": {
     "cellMetadata": {
      "byteLimit": 2048000,
      "rowLimit": 10000
     },
     "inputWidgets": {},
     "nuid": "ba37aa12-0c15-44b4-b669-288da003e9b5",
     "showTitle": true,
     "tableResultSettingsMap": {},
     "title": "Ingestion Function"
    }
   },
   "outputs": [],
   "source": [
    "def ingestion(df):\n",
    "    df = df.withColumn('ingestion_date', lit(datetime.now().strftime('%Y-%m-%d')))\n",
    "\n",
    "    (df.write\n",
    "        .partitionBy('ingestion_date')\n",
    "        .mode('overwrite')\n",
    "        .saveAsTable('bronze.nytimes.top_stories'))\n"
   ]
  },
  {
   "cell_type": "code",
   "execution_count": 0,
   "metadata": {
    "application/vnd.databricks.v1+cell": {
     "cellMetadata": {
      "byteLimit": 2048000,
      "rowLimit": 10000
     },
     "inputWidgets": {},
     "nuid": "1e6b1b81-55e2-4a0b-8ca0-ee4723e998fc",
     "showTitle": true,
     "tableResultSettingsMap": {},
     "title": "Reading Stream"
    }
   },
   "outputs": [],
   "source": [
    "df_stream = (spark.readStream\n",
    "                .format('cloudFiles')\n",
    "                .option('cloudFiles.format', 'json')\n",
    "                .schema(stream_schema)\n",
    "                .load('/Volumes/raw/nytimes/top_stories')\n",
    ")"
   ]
  },
  {
   "cell_type": "code",
   "execution_count": 0,
   "metadata": {
    "application/vnd.databricks.v1+cell": {
     "cellMetadata": {
      "byteLimit": 2048000,
      "rowLimit": 10000
     },
     "inputWidgets": {},
     "nuid": "dfaf03b2-eea0-4364-8124-4372145127c3",
     "showTitle": true,
     "tableResultSettingsMap": {},
     "title": "Writing Stream"
    }
   },
   "outputs": [],
   "source": [
    "stream = (df_stream.writeStream\n",
    "    .option(\"checkpointLocation\", \"/Volumes/raw/nytimes/top_stories_checkpoint/\")\n",
    "    .foreachBatch(\n",
    "        lambda df, epoch_id: ingestion(df)\n",
    "    )\n",
    "    .trigger(availableNow=True)\n",
    ")"
   ]
  },
  {
   "cell_type": "code",
   "execution_count": 0,
   "metadata": {
    "application/vnd.databricks.v1+cell": {
     "cellMetadata": {
      "byteLimit": 2048000,
      "rowLimit": 10000
     },
     "inputWidgets": {},
     "nuid": "7cb1c7b5-b017-470a-b005-112b6c182f56",
     "showTitle": true,
     "tableResultSettingsMap": {},
     "title": "Stream execution"
    }
   },
   "outputs": [],
   "source": [
    "start = stream.start()"
   ]
  },
  {
   "cell_type": "code",
   "execution_count": 0,
   "metadata": {
    "application/vnd.databricks.v1+cell": {
     "cellMetadata": {
      "byteLimit": 2048000,
      "implicitDf": true,
      "rowLimit": 10000
     },
     "inputWidgets": {},
     "nuid": "a5c58219-503e-4724-9150-8c7454993243",
     "showTitle": true,
     "tableResultSettingsMap": {},
     "title": "Validation: Partitions"
    }
   },
   "outputs": [],
   "source": [
    "%sql\n",
    "\n",
    "SHOW PARTITIONS bronze.nytimes.top_stories;"
   ]
  },
  {
   "cell_type": "code",
   "execution_count": 0,
   "metadata": {
    "application/vnd.databricks.v1+cell": {
     "cellMetadata": {
      "byteLimit": 2048000,
      "implicitDf": true,
      "rowLimit": 10000
     },
     "inputWidgets": {},
     "nuid": "c6137784-9fc6-4e9a-a466-b2f440bd734a",
     "showTitle": true,
     "tableResultSettingsMap": {},
     "title": "Validation: Rows"
    }
   },
   "outputs": [],
   "source": [
    "%sql\n",
    "\n",
    "SELECT \n",
    "  ingestion_date, \n",
    "  COUNT(*) AS entries\n",
    "FROM bronze.nytimes.top_stories\n",
    "GROUP BY ingestion_date\n",
    ";"
   ]
  }
 ],
 "metadata": {
  "application/vnd.databricks.v1+notebook": {
   "computePreferences": null,
   "dashboards": [],
   "environmentMetadata": {
    "base_environment": "",
    "environment_version": "3"
   },
   "inputWidgetPreferences": null,
   "language": "python",
   "notebookMetadata": {
    "mostRecentlyExecutedCommandWithImplicitDF": {
     "commandId": 5718192201273298,
     "dataframes": [
      "_sqldf"
     ]
    },
    "pythonIndentUnit": 4
   },
   "notebookName": "Bronze - Ingestion",
   "widgets": {}
  },
  "language_info": {
   "name": "python"
  }
 },
 "nbformat": 4,
 "nbformat_minor": 0
}
